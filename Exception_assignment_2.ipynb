{
 "cells": [
  {
   "cell_type": "markdown",
   "metadata": {},
   "source": [
    "Q1. Explain why we have to use the Exception class while creating a Custom Exception."
   ]
  },
  {
   "cell_type": "markdown",
   "metadata": {},
   "source": [
    "ANS: When you're writing code, sometimes things can go wrong, like when you try to divide by zero or access a file that doesn't exist. To make it easier to understand and fix these problems, we create our own special types of errors, called \"custom exceptions.\" These exceptions are like special messages that explain what went wrong.\n",
    "When making these custom exceptions, it's a good idea to start with a basic \"Exception\" template provided by the programming language you're using. This helps keep things organized and makes it easier for the computer to handle these special messages."
   ]
  },
  {
   "cell_type": "markdown",
   "metadata": {},
   "source": [
    "Q2. Write a python program to print Python Exception Hierarchy."
   ]
  },
  {
   "cell_type": "code",
   "execution_count": null,
   "metadata": {},
   "outputs": [],
   "source": [
    "def print_exception_hierarchy(base_exception, indent=0):\n",
    "    print(' ' * indent + base_exception.__name__)\n",
    "    for subclass in base_exception.__subclasses__():\n",
    "        print_exception_hierarchy(subclass, indent + 4)\n",
    "\n",
    "print_exception_hierarchy(BaseException)\n"
   ]
  },
  {
   "cell_type": "markdown",
   "metadata": {},
   "source": [
    "Q3. What errors are defined in the ArithmeticError class? Explain any two with an example.\n",
    "\n",
    "ANS:The ArithmeticError class is a base class for exceptions that occur during arithmetic operations in Python. It represents a category of errors related to mathematical calculations. This class is further subclassed into more specific exception classes that provide details about the type of arithmetic error that occurred. Here are two examples of exceptions derived from the ArithmeticError class"
   ]
  },
  {
   "cell_type": "code",
   "execution_count": 12,
   "metadata": {},
   "outputs": [
    {
     "name": "stdout",
     "output_type": "stream",
     "text": [
      "Error: division by zero\n"
     ]
    }
   ],
   "source": [
    "#Example 1\n",
    "numerator = 10\n",
    "denominator = 0\n",
    "\n",
    "try:\n",
    "    result = numerator / denominator\n",
    "except ZeroDivisionError as e:\n",
    "    print(\"Error:\", e)\n"
   ]
  },
  {
   "cell_type": "code",
   "execution_count": 11,
   "metadata": {},
   "outputs": [],
   "source": [
    "#Example 2\n",
    "import sys\n",
    "\n",
    "try:\n",
    "    large_number = sys.maxsize + 1\n",
    "    result = large_number * 2\n",
    "except OverflowError as e:\n",
    "    print(\"Error:\", e)\n"
   ]
  },
  {
   "cell_type": "markdown",
   "metadata": {},
   "source": [
    "Q4. Why LookupError class is used? Explain with an example KeyError and IndexError.\n",
    "ANS:The LookupError class is a base class for exceptions that occur when an attempt to access a value fails due to a lookup or indexing operation. It represents a category of errors related to searching for or retrieving items from collections like lists, dictionaries, or sequences. LookupError is further subclassed into more specific exception classes that provide details about the lookup or indexing error that occurred. Let's explore two examples of exceptions derived from the LookupError class:\n",
    "\n",
    "\n"
   ]
  },
  {
   "cell_type": "code",
   "execution_count": 8,
   "metadata": {},
   "outputs": [
    {
     "name": "stdout",
     "output_type": "stream",
     "text": [
      "Error: 'grapes'\n"
     ]
    }
   ],
   "source": [
    "#key Error\n",
    "my_dict = {\"apple\": 3, \"banana\": 2, \"orange\": 5}\n",
    "\n",
    "try:\n",
    "    count_of_grapes = my_dict[\"grapes\"]\n",
    "except KeyError as e:\n",
    "    print(\"Error:\", e)\n"
   ]
  },
  {
   "cell_type": "code",
   "execution_count": 10,
   "metadata": {},
   "outputs": [
    {
     "name": "stdout",
     "output_type": "stream",
     "text": [
      "Error: list index out of range\n"
     ]
    }
   ],
   "source": [
    "#index Error\n",
    "my_list = [10, 20, 30, 40, 50]\n",
    "\n",
    "try:\n",
    "    value = my_list[10]\n",
    "except IndexError as e:\n",
    "    print(\"Error:\", e)\n"
   ]
  },
  {
   "cell_type": "markdown",
   "metadata": {},
   "source": [
    "Q5. Explain ImportError. What is ModuleNotFoundError?\n",
    "\n",
    "ANS:ImportError is an exception in Python that occurs when there's a problem with importing a module or package. It is raised when the Python interpreter encounters difficulties while trying to load and use a module or package in your code. The ImportError can have various subtypes depending on the specific issue encountered during the import process."
   ]
  },
  {
   "cell_type": "code",
   "execution_count": null,
   "metadata": {},
   "outputs": [],
   "source": [
    "#Example\n",
    "try:\n",
    "    import math_tools\n",
    "except ImportError as e:\n",
    "    print(\"Error:\", e)\n"
   ]
  },
  {
   "cell_type": "markdown",
   "metadata": {},
   "source": [
    "Q6. List down some best practices for exception handling in python.\n",
    "\n",
    "ANS :here are some easy-to-follow tips for dealing with errors in your Python code:\n",
    "\n",
    "Be Specific: Catch only the errors you know might happen, not all of them. This helps you understand and fix issues better.\n",
    "Separate Errors: If you need different solutions for different errors, use different ways to catch them. This makes your code clearer.\n",
    "Keep try Short: Only wrap a small piece of code in try so you know exactly where the problem happened.\n",
    "Use finally: Put cleanup code in finally to make sure things get cleaned up, no matter what.\n",
    "Don't Blanket-Catch: Don't catch all errors without knowing why – it might hide real problems. If you need to, catch Exception, but be careful.\n",
    "Use with: For handling things like files, use with – it sets up and cleans up for you automatically.\n",
    "Don't Hide Mistakes: If you can't fix a problem, it's okay to let it be shown. Use raise to show the original issue.\n",
    "Write It Down: Use a logging tool to write down the errors. It helps you find and fix issues later.\n",
    "Create Custom Notes: Make your own types of errors if they fit your problem better. It makes your code easier to understand.\n",
    "Explain to Users: If users might see the error, write helpful messages so they know what went wrong and what to do.\n",
    "Handle Expected Problems: Deal with errors that might happen normally, like missing files or slow internet.\n",
    "Try-Except in Loops: If you're doing many things in a row, put try-except inside the loop. It keeps the loop going even if something breaks.\n",
    "Test Problems: Test your code to make sure it deals with errors correctly.\n",
    "Write Notes: Explain what errors can happen in your code, why they might happen, and how to fix them."
   ]
  }
 ],
 "metadata": {
  "kernelspec": {
   "display_name": "Python 3",
   "language": "python",
   "name": "python3"
  },
  "language_info": {
   "codemirror_mode": {
    "name": "ipython",
    "version": 3
   },
   "file_extension": ".py",
   "mimetype": "text/x-python",
   "name": "python",
   "nbconvert_exporter": "python",
   "pygments_lexer": "ipython3",
   "version": "3.11.2"
  },
  "orig_nbformat": 4
 },
 "nbformat": 4,
 "nbformat_minor": 2
}
